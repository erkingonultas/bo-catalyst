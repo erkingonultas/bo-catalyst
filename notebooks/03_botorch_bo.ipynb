{
 "cells": [
  {
   "cell_type": "markdown",
   "id": "a291350f",
   "metadata": {},
   "source": [
    "# run loop, plots, HV curve"
   ]
  }
 ],
 "metadata": {
  "language_info": {
   "name": "python"
  }
 },
 "nbformat": 4,
 "nbformat_minor": 5
}
